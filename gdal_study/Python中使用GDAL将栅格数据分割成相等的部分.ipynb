{
 "cells": [
  {
   "cell_type": "code",
   "execution_count": 1,
   "id": "c9b75b9a-1a1c-4bcb-80df-9aa576e82987",
   "metadata": {},
   "outputs": [
    {
     "name": "stdout",
     "output_type": "stream",
     "text": [
      "xlen=1248.0,ylen=1360.0\n",
      "xsize=624.0,ysize=680.0\n",
      "xsteps=[0.0, 624.0, 1248.0]\n",
      "ysteps=[0.0, 680.0, 1360.0]\n",
      "xmin: 0.0\n",
      "xmax: 624.0\n",
      "ymin: 0.0\n",
      "ymax: 680.0\n",
      "\n",
      "\n",
      "xmin: 0.0\n",
      "xmax: 624.0\n",
      "ymin: 680.0\n",
      "ymax: 1360.0\n",
      "\n",
      "\n",
      "xmin: 624.0\n",
      "xmax: 1248.0\n",
      "ymin: 0.0\n",
      "ymax: 680.0\n",
      "\n",
      "\n",
      "xmin: 624.0\n",
      "xmax: 1248.0\n",
      "ymin: 680.0\n",
      "ymax: 1360.0\n",
      "\n",
      "\n"
     ]
    }
   ],
   "source": [
    "# Python中可视化多波段卫星影像\n",
    "#！/usr/bin/env python3\n",
    "# -*- coding:utf-8 -*-\n",
    "\n",
    "%matplotlib inline\n",
    "\n",
    "from osgeo import gdal\n",
    "\n",
    "dem = gdal.Open(r\"D:\\GoogleDownLoads\\CasMVSNet_pl\\gdal_study\\RSP_testing_data\\JAX_IMG1_MSI.TIF\")  # gdal.Dataset\n",
    "\n",
    "gt = dem.GetGeoTransform()\n",
    "\n",
    "# ================================1.获取原始图像左上角的地理坐标===============================================\n",
    "xmin = gt[0]+0*gt[1]+0*gt[2]#g[0-2]分别是x方向分辨率\n",
    "ymin = gt[3]+0*gt[4]+0*gt[5]\n",
    "res = gt[1]# 影像分辨率，注意x方向为正,y方向分辨率为负，但数值上x,y方向上一致\n",
    "\n",
    "\n",
    "# ================================2.计算原始图像地理坐标范围长度和宽度========================================\n",
    "xlen = res * dem.RasterXSize\n",
    "ylen = res * dem.RasterYSize\n",
    "print(f'xlen={xlen},ylen={ylen}')\n",
    "\n",
    "# ================================3.设置x,y方向上的分块数=============================================\n",
    "xdiv = 2\n",
    "ydiv = 2\n",
    "\n",
    "\n",
    "# ================================4.计算单块的尺寸====================================================\n",
    "xsize = xlen/xdiv\n",
    "ysize = ylen/ydiv\n",
    "print(f'xsize={xsize},ysize={ysize}')\n",
    "\n",
    "# ================================5.计算出分块的角点坐标===============================================\n",
    "xsteps = [xmin + xsize * i for i in range(xdiv+1)]\n",
    "print(f'xsteps={xsteps}')\n",
    "ysteps = [ymin +ysize * i for i in range(ydiv+1)]\n",
    "print(f'ysteps={ysteps}')\n",
    "\n",
    "# ================================6.循环进行裁剪===============================================\n",
    "for i in range(xdiv):\n",
    "    for j in range(ydiv):\n",
    "        xmin = xsteps[i]\n",
    "        xmax = xsteps[i+1]\n",
    "        ymin = ysteps[j]\n",
    "        ymax = ysteps[j+1]\n",
    "        \n",
    "        print(\"xmin: \"+str(xmin))\n",
    "        print(\"xmax: \"+str(xmax))\n",
    "        print(\"ymin: \"+str(ymin))\n",
    "        print(\"ymax: \"+str(ymax))\n",
    "        print(\"\\n\")\n",
    "        \n",
    "        #使用 gdal warp裁剪\n",
    "        # gdal.Warp(\"dem\"+str(i)+str(j)+\".tif\", dem, \n",
    "        #           outputBounds = (xmin, ymin, xmax, ymax), dstNodata = -9999)\n",
    "        #或者使用 gdal translate裁剪，但需要注意两个的传入裁剪范围顺序\n",
    "        gdal.Translate(\"dem_translate\"+str(i)+str(j)+\".tif\", dem, projWin = (ymin, xmin, ymax,xmax))\n",
    " \n",
    "# 7.关闭\n",
    "dem = None\n",
    "\n",
    "\n",
    "\n",
    "\n"
   ]
  },
  {
   "cell_type": "code",
   "execution_count": 2,
   "id": "878eda12-642e-47e5-92d8-1e32e4854f56",
   "metadata": {},
   "outputs": [
    {
     "name": "stdout",
     "output_type": "stream",
     "text": [
      "(0.0, 1.0, 0.0, 0.0, 0.0, 1.0)\n",
      "xmin=1000.0,ymin=500.0\n",
      "(0.0, 1.0, 0.0, 0.0, 0.0, 1.0)\n",
      "xmax=2000.0,ymax=1000.0\n"
     ]
    },
    {
     "data": {
      "text/plain": [
       "<osgeo.gdal.Dataset; proxy of <Swig Object of type 'GDALDatasetShadow *' at 0x000001A11AD3A3F0> >"
      ]
     },
     "execution_count": 2,
     "metadata": {},
     "output_type": "execute_result"
    }
   ],
   "source": [
    "from osgeo import gdal\n",
    "dem = gdal.Open(r\"D:\\GoogleDownLoads\\CasMVSNet_pl\\gdal_study\\RSP_testing_data\\JAX_IMG1_MSI.TIF\")  # gdal.Dataset\n",
    "\n",
    "#=========================== 1.图像坐标裁剪区域=======================\n",
    "x=1000\n",
    "y=500\n",
    "h=500\n",
    "w=1000\n",
    "# 按照图像坐标进行裁剪\n",
    "gdal.Translate(\"dem_translateSrc\"+\".tif\", dem, srcWin = (y,x,h,w))\n",
    "#======================== 2.计算出图像坐标对应的地理坐标=====================\n",
    "def GeoCoord(dataset, x, y):\n",
    "    GT = dataset.GetGeoTransform()#(0.0, 1.0, 0.0, 0.0, 0.0, 1.0)\n",
    "    print(GT)\n",
    "    if GT:\n",
    "        return [GT[0] + x*GT[1] + y*GT[2], GT[3] + x*GT[4] + y*GT[5]]\n",
    "# 2.1先计算对应的地理坐标\n",
    "xmin, ymin=GeoCoord(dem,x,y)#xmin,ymin\n",
    "print(f'xmin={xmin},ymin={ymin}')\n",
    "xmax, ymax=GeoCoord(dem,x+w,y+h)\n",
    "print(f'xmax={xmax},ymax={ymax}')\n",
    "# 2.2 执行根据地理坐标范围进行裁剪\n",
    "gdal.Translate(\"dem_translateProj\"+\".tif\", dem, projWin = (ymin,xmin,ymax,xmax))#左下角和右上角"
   ]
  },
  {
   "cell_type": "code",
   "execution_count": null,
   "id": "f1179ed1-f16e-47f2-8f4c-2a176bbd19dc",
   "metadata": {},
   "outputs": [],
   "source": []
  },
  {
   "cell_type": "code",
   "execution_count": null,
   "id": "f8888235-cf37-4b69-a927-b3d25528ddd9",
   "metadata": {},
   "outputs": [],
   "source": []
  }
 ],
 "metadata": {
  "kernelspec": {
   "display_name": "Python 3 (ipykernel)",
   "language": "python",
   "name": "python3"
  },
  "language_info": {
   "codemirror_mode": {
    "name": "ipython",
    "version": 3
   },
   "file_extension": ".py",
   "mimetype": "text/x-python",
   "name": "python",
   "nbconvert_exporter": "python",
   "pygments_lexer": "ipython3",
   "version": "3.8.19"
  }
 },
 "nbformat": 4,
 "nbformat_minor": 5
}